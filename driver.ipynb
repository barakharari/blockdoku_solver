{
 "cells": [
  {
   "cell_type": "code",
   "execution_count": 1,
   "metadata": {},
   "outputs": [],
   "source": [
    "import util as game"
   ]
  },
  {
   "cell_type": "code",
   "execution_count": 2,
   "metadata": {},
   "outputs": [],
   "source": [
    "# Unit testing\n",
    "assert game.activation(2116800775946318467039232, 5, 5) == False\n",
    "assert game.activation(2116800775946318467039232, 0, 1) == True\n",
    "assert game.activation(2116800775946318467039232, 2, 1) == False\n",
    "\n",
    "assert game.check_column(307554513796345169740353, 8) == True\n",
    "assert game.check_column(game.COLUMN_MAP >> 2, 1) == False\n",
    "assert game.check_column(302822905891727073116224, 2) == True\n",
    "\n",
    "assert game.check_row(511, 8) == True\n",
    "assert game.check_row(302822905891787068440640, 5) == True\n",
    "assert game.check_row(302822905891787068440640, 4) == False\n",
    "\n",
    "assert game.check_square(2119760325448644243226624, 0) == True\n",
    "assert game.check_square(2129242096020467822391352, 7) == True\n",
    "assert game.check_square(2129242096020467822391352, 4) == False\n",
    "\n",
    "state = 567016596361936495452160\n",
    "\n",
    "'''\n",
    "piece_1: \n",
    "x\n",
    " x\n",
    "\n",
    "piece_2:\n",
    " x\n",
    "xxx\n",
    " x\n",
    "'''\n",
    "\n",
    "piece_1 = 1210106411235346586009600 \n",
    "piece_2 = 608597286322834740609024\n",
    "assert game.check_piece(state, 2, 3, piece_2) == False\n",
    "assert game.check_piece(state, 3, 1, piece_2) == True\n",
    "assert game.check_piece(state, 4, 3, piece_2) == True\n",
    "assert game.check_piece(state, 0, 1, piece_1) == True\n",
    "assert game.check_piece(state, 6, 2, piece_1) == False\n",
    "\n",
    "assert game.check_and_place_piece(state, 2, 3, piece_2) == -1\n",
    "assert game.check_and_place_piece(state, 4, 3, piece_2) == 567016596363043527467008\n",
    "assert game.check_and_place_piece(state, 0, 1, piece_1) == 1172069801979609788456960\n",
    "\n",
    "col_state = 1173252703955749347336320\n",
    "assert game.clear_column(state, 1) == 567016596361936495452160\n",
    "\n",
    "row_state = 567016596396502392250368\n",
    "assert game.clear_row(state, 4) == 567016596361386739638272\n",
    "\n",
    "square_state = 567016597772617430081536\n",
    "assert game.clear_square(state, 4) == 567016595798436786216960"
   ]
  },
  {
   "cell_type": "code",
   "execution_count": 3,
   "metadata": {},
   "outputs": [],
   "source": [
    "state = 0\n",
    "pieces = [[1208925819614629174706176,1,1], [2342293775503344025993216,5,1], [2115620184325601055735808,3,1]]\n",
    "best_state, best_score = game.calculate_next_best_state(state, pieces)"
   ]
  },
  {
   "cell_type": "code",
   "execution_count": 4,
   "metadata": {},
   "outputs": [
    {
     "name": "stdout",
     "output_type": "stream",
     "text": [
      "111111110\n",
      "000000011\n",
      "000000000\n",
      "000000000\n",
      "000000000\n",
      "000000000\n",
      "000000000\n",
      "000000000\n",
      "000000000\n",
      "1627\n"
     ]
    }
   ],
   "source": [
    "game.output_state(best_state)\n",
    "print(best_score)"
   ]
  },
  {
   "cell_type": "code",
   "execution_count": null,
   "metadata": {},
   "outputs": [],
   "source": []
  }
 ],
 "metadata": {
  "kernelspec": {
   "display_name": "Python 3",
   "language": "python",
   "name": "python3"
  },
  "language_info": {
   "codemirror_mode": {
    "name": "ipython",
    "version": 3
   },
   "file_extension": ".py",
   "mimetype": "text/x-python",
   "name": "python",
   "nbconvert_exporter": "python",
   "pygments_lexer": "ipython3",
   "version": "3.8.10"
  },
  "orig_nbformat": 4
 },
 "nbformat": 4,
 "nbformat_minor": 2
}
